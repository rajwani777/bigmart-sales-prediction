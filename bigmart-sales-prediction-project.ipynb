{
 "cells": [
  {
   "cell_type": "code",
   "execution_count": 1,
   "id": "3aba44e5",
   "metadata": {
    "execution": {
     "iopub.execute_input": "2022-05-18T05:55:29.693381Z",
     "iopub.status.busy": "2022-05-18T05:55:29.693007Z",
     "iopub.status.idle": "2022-05-18T05:55:30.660631Z",
     "shell.execute_reply": "2022-05-18T05:55:30.659767Z"
    },
    "papermill": {
     "duration": 1.015118,
     "end_time": "2022-05-18T05:55:30.662903",
     "exception": false,
     "start_time": "2022-05-18T05:55:29.647785",
     "status": "completed"
    },
    "tags": []
   },
   "outputs": [],
   "source": [
    "import pandas as pd\n",
    "import numpy as np\n",
    "import missingno as ms\n",
    "import seaborn as sns\n",
    "import matplotlib.pyplot as plt"
   ]
  },
  {
   "cell_type": "code",
   "execution_count": 2,
   "id": "bf7863c6",
   "metadata": {
    "execution": {
     "iopub.execute_input": "2022-05-18T05:55:30.758336Z",
     "iopub.status.busy": "2022-05-18T05:55:30.757771Z",
     "iopub.status.idle": "2022-05-18T05:55:30.822129Z",
     "shell.execute_reply": "2022-05-18T05:55:30.820501Z"
    },
    "papermill": {
     "duration": 0.116263,
     "end_time": "2022-05-18T05:55:30.824033",
     "exception": false,
     "start_time": "2022-05-18T05:55:30.707770",
     "status": "completed"
    },
    "tags": []
   },
   "outputs": [
    {
     "data": {
      "text/html": [
       "<div>\n",
       "<style scoped>\n",
       "    .dataframe tbody tr th:only-of-type {\n",
       "        vertical-align: middle;\n",
       "    }\n",
       "\n",
       "    .dataframe tbody tr th {\n",
       "        vertical-align: top;\n",
       "    }\n",
       "\n",
       "    .dataframe thead th {\n",
       "        text-align: right;\n",
       "    }\n",
       "</style>\n",
       "<table border=\"1\" class=\"dataframe\">\n",
       "  <thead>\n",
       "    <tr style=\"text-align: right;\">\n",
       "      <th></th>\n",
       "      <th>Item_Identifier</th>\n",
       "      <th>Item_Weight</th>\n",
       "      <th>Item_Fat_Content</th>\n",
       "      <th>Item_Visibility</th>\n",
       "      <th>Item_Type</th>\n",
       "      <th>Item_MRP</th>\n",
       "      <th>Outlet_Identifier</th>\n",
       "      <th>Outlet_Establishment_Year</th>\n",
       "      <th>Outlet_Size</th>\n",
       "      <th>Outlet_Location_Type</th>\n",
       "      <th>Outlet_Type</th>\n",
       "      <th>Item_Outlet_Sales</th>\n",
       "    </tr>\n",
       "  </thead>\n",
       "  <tbody>\n",
       "    <tr>\n",
       "      <th>0</th>\n",
       "      <td>FDA15</td>\n",
       "      <td>9.30</td>\n",
       "      <td>Low Fat</td>\n",
       "      <td>0.016047</td>\n",
       "      <td>Dairy</td>\n",
       "      <td>249.8092</td>\n",
       "      <td>OUT049</td>\n",
       "      <td>1999</td>\n",
       "      <td>Medium</td>\n",
       "      <td>Tier 1</td>\n",
       "      <td>Supermarket Type1</td>\n",
       "      <td>3735.1380</td>\n",
       "    </tr>\n",
       "    <tr>\n",
       "      <th>1</th>\n",
       "      <td>DRC01</td>\n",
       "      <td>5.92</td>\n",
       "      <td>Regular</td>\n",
       "      <td>0.019278</td>\n",
       "      <td>Soft Drinks</td>\n",
       "      <td>48.2692</td>\n",
       "      <td>OUT018</td>\n",
       "      <td>2009</td>\n",
       "      <td>Medium</td>\n",
       "      <td>Tier 3</td>\n",
       "      <td>Supermarket Type2</td>\n",
       "      <td>443.4228</td>\n",
       "    </tr>\n",
       "    <tr>\n",
       "      <th>2</th>\n",
       "      <td>FDN15</td>\n",
       "      <td>17.50</td>\n",
       "      <td>Low Fat</td>\n",
       "      <td>0.016760</td>\n",
       "      <td>Meat</td>\n",
       "      <td>141.6180</td>\n",
       "      <td>OUT049</td>\n",
       "      <td>1999</td>\n",
       "      <td>Medium</td>\n",
       "      <td>Tier 1</td>\n",
       "      <td>Supermarket Type1</td>\n",
       "      <td>2097.2700</td>\n",
       "    </tr>\n",
       "    <tr>\n",
       "      <th>3</th>\n",
       "      <td>FDX07</td>\n",
       "      <td>19.20</td>\n",
       "      <td>Regular</td>\n",
       "      <td>0.000000</td>\n",
       "      <td>Fruits and Vegetables</td>\n",
       "      <td>182.0950</td>\n",
       "      <td>OUT010</td>\n",
       "      <td>1998</td>\n",
       "      <td>NaN</td>\n",
       "      <td>Tier 3</td>\n",
       "      <td>Grocery Store</td>\n",
       "      <td>732.3800</td>\n",
       "    </tr>\n",
       "    <tr>\n",
       "      <th>4</th>\n",
       "      <td>NCD19</td>\n",
       "      <td>8.93</td>\n",
       "      <td>Low Fat</td>\n",
       "      <td>0.000000</td>\n",
       "      <td>Household</td>\n",
       "      <td>53.8614</td>\n",
       "      <td>OUT013</td>\n",
       "      <td>1987</td>\n",
       "      <td>High</td>\n",
       "      <td>Tier 3</td>\n",
       "      <td>Supermarket Type1</td>\n",
       "      <td>994.7052</td>\n",
       "    </tr>\n",
       "  </tbody>\n",
       "</table>\n",
       "</div>"
      ],
      "text/plain": [
       "  Item_Identifier  Item_Weight Item_Fat_Content  Item_Visibility  \\\n",
       "0           FDA15         9.30          Low Fat         0.016047   \n",
       "1           DRC01         5.92          Regular         0.019278   \n",
       "2           FDN15        17.50          Low Fat         0.016760   \n",
       "3           FDX07        19.20          Regular         0.000000   \n",
       "4           NCD19         8.93          Low Fat         0.000000   \n",
       "\n",
       "               Item_Type  Item_MRP Outlet_Identifier  \\\n",
       "0                  Dairy  249.8092            OUT049   \n",
       "1            Soft Drinks   48.2692            OUT018   \n",
       "2                   Meat  141.6180            OUT049   \n",
       "3  Fruits and Vegetables  182.0950            OUT010   \n",
       "4              Household   53.8614            OUT013   \n",
       "\n",
       "   Outlet_Establishment_Year Outlet_Size Outlet_Location_Type  \\\n",
       "0                       1999      Medium               Tier 1   \n",
       "1                       2009      Medium               Tier 3   \n",
       "2                       1999      Medium               Tier 1   \n",
       "3                       1998         NaN               Tier 3   \n",
       "4                       1987        High               Tier 3   \n",
       "\n",
       "         Outlet_Type  Item_Outlet_Sales  \n",
       "0  Supermarket Type1          3735.1380  \n",
       "1  Supermarket Type2           443.4228  \n",
       "2  Supermarket Type1          2097.2700  \n",
       "3      Grocery Store           732.3800  \n",
       "4  Supermarket Type1           994.7052  "
      ]
     },
     "execution_count": 2,
     "metadata": {},
     "output_type": "execute_result"
    }
   ],
   "source": [
    "data= pd.read_csv('../input/bigmart-sales-prediction/Train.csv')\n",
    "data.head()"
   ]
  },
  {
   "cell_type": "code",
   "execution_count": 3,
   "id": "23a28908",
   "metadata": {
    "execution": {
     "iopub.execute_input": "2022-05-18T05:55:30.912237Z",
     "iopub.status.busy": "2022-05-18T05:55:30.911717Z",
     "iopub.status.idle": "2022-05-18T05:55:31.394168Z",
     "shell.execute_reply": "2022-05-18T05:55:31.393410Z"
    },
    "papermill": {
     "duration": 0.527939,
     "end_time": "2022-05-18T05:55:31.395762",
     "exception": false,
     "start_time": "2022-05-18T05:55:30.867823",
     "status": "completed"
    },
    "tags": []
   },
   "outputs": [
    {
     "name": "stdout",
     "output_type": "stream",
     "text": [
      "shape (8523, 12)\n",
      "Item_Identifier                 0\n",
      "Item_Weight                  1463\n",
      "Item_Fat_Content                0\n",
      "Item_Visibility                 0\n",
      "Item_Type                       0\n",
      "Item_MRP                        0\n",
      "Outlet_Identifier               0\n",
      "Outlet_Establishment_Year       0\n",
      "Outlet_Size                  2410\n",
      "Outlet_Location_Type            0\n",
      "Outlet_Type                     0\n",
      "Item_Outlet_Sales               0\n",
      "dtype: int64\n"
     ]
    },
    {
     "data": {
      "text/plain": [
       "<AxesSubplot:>"
      ]
     },
     "execution_count": 3,
     "metadata": {},
     "output_type": "execute_result"
    },
    {
     "data": {
      "image/png": "[encoded data removed]",
      "text/plain": [
       "<Figure size 1800x720 with 2 Axes>"
      ]
     },
     "metadata": {
      "needs_background": "light"
     },
     "output_type": "display_data"
    }
   ],
   "source": [
    "print('shape',data.shape)\n",
    "print(data.isnull().sum())\n",
    "ms.matrix(data)"
   ]
  },
  {
   "cell_type": "code",
   "execution_count": 4,
   "id": "84e412ba",
   "metadata": {
    "execution": {
     "iopub.execute_input": "2022-05-18T05:55:31.458947Z",
     "iopub.status.busy": "2022-05-18T05:55:31.458705Z",
     "iopub.status.idle": "2022-05-18T05:55:31.466252Z",
     "shell.execute_reply": "2022-05-18T05:55:31.465685Z"
    },
    "papermill": {
     "duration": 0.041251,
     "end_time": "2022-05-18T05:55:31.468048",
     "exception": false,
     "start_time": "2022-05-18T05:55:31.426797",
     "status": "completed"
    },
    "tags": []
   },
   "outputs": [],
   "source": [
    "data['Item_Weight'].mean()\n",
    "data['Item_Weight'] = data['Item_Weight'].fillna(data['Item_Weight'].mean())\n"
   ]
  },
  {
   "cell_type": "code",
   "execution_count": 5,
   "id": "4883a73c",
   "metadata": {
    "execution": {
     "iopub.execute_input": "2022-05-18T05:55:31.565341Z",
     "iopub.status.busy": "2022-05-18T05:55:31.564631Z",
     "iopub.status.idle": "2022-05-18T05:55:31.574495Z",
     "shell.execute_reply": "2022-05-18T05:55:31.574042Z"
    },
    "papermill": {
     "duration": 0.059452,
     "end_time": "2022-05-18T05:55:31.576518",
     "exception": false,
     "start_time": "2022-05-18T05:55:31.517066",
     "status": "completed"
    },
    "tags": []
   },
   "outputs": [
    {
     "data": {
      "text/plain": [
       "array(['Medium', 'others', 'High', 'Small'], dtype=object)"
      ]
     },
     "execution_count": 5,
     "metadata": {},
     "output_type": "execute_result"
    }
   ],
   "source": [
    "\n",
    "data['Outlet_Size'] = data['Outlet_Size'].fillna(\"others\")\n",
    "data['Outlet_Size'].unique()"
   ]
  },
  {
   "cell_type": "code",
   "execution_count": 6,
   "id": "8f567212",
   "metadata": {
    "execution": {
     "iopub.execute_input": "2022-05-18T05:55:31.673127Z",
     "iopub.status.busy": "2022-05-18T05:55:31.672470Z",
     "iopub.status.idle": "2022-05-18T05:55:31.680346Z",
     "shell.execute_reply": "2022-05-18T05:55:31.679809Z"
    },
    "papermill": {
     "duration": 0.058518,
     "end_time": "2022-05-18T05:55:31.682227",
     "exception": false,
     "start_time": "2022-05-18T05:55:31.623709",
     "status": "completed"
    },
    "tags": []
   },
   "outputs": [
    {
     "name": "stdout",
     "output_type": "stream",
     "text": [
      "Medium    2793\n",
      "others    2410\n",
      "Small     2388\n",
      "High       932\n",
      "Name: Outlet_Size, dtype: int64\n"
     ]
    }
   ],
   "source": [
    "#now we dont have any missing values in dataset\n",
    "#print(data.isnull().sum())\n",
    "\n",
    "\n",
    "print(data['Outlet_Size'].value_counts())\n"
   ]
  },
  {
   "cell_type": "code",
   "execution_count": 7,
   "id": "2d1e2275",
   "metadata": {
    "execution": {
     "iopub.execute_input": "2022-05-18T05:55:31.779783Z",
     "iopub.status.busy": "2022-05-18T05:55:31.778981Z",
     "iopub.status.idle": "2022-05-18T05:55:31.785475Z",
     "shell.execute_reply": "2022-05-18T05:55:31.784694Z"
    },
    "papermill": {
     "duration": 0.057828,
     "end_time": "2022-05-18T05:55:31.787616",
     "exception": false,
     "start_time": "2022-05-18T05:55:31.729788",
     "status": "completed"
    },
    "tags": []
   },
   "outputs": [
    {
     "name": "stdout",
     "output_type": "stream",
     "text": [
      "Fruits and Vegetables    1232\n",
      "Snack Foods              1200\n",
      "Household                 910\n",
      "Frozen Foods              856\n",
      "Dairy                     682\n",
      "Canned                    649\n",
      "Baking Goods              648\n",
      "Health and Hygiene        520\n",
      "Soft Drinks               445\n",
      "Meat                      425\n",
      "Breads                    251\n",
      "Hard Drinks               214\n",
      "Others                    169\n",
      "Starchy Foods             148\n",
      "Breakfast                 110\n",
      "Seafood                    64\n",
      "Name: Item_Type, dtype: int64\n"
     ]
    }
   ],
   "source": [
    "print(data['Item_Type'].value_counts())"
   ]
  },
  {
   "cell_type": "code",
   "execution_count": 8,
   "id": "77809fa3",
   "metadata": {
    "execution": {
     "iopub.execute_input": "2022-05-18T05:55:31.883318Z",
     "iopub.status.busy": "2022-05-18T05:55:31.883082Z",
     "iopub.status.idle": "2022-05-18T05:55:31.890204Z",
     "shell.execute_reply": "2022-05-18T05:55:31.889035Z"
    },
    "papermill": {
     "duration": 0.05731,
     "end_time": "2022-05-18T05:55:31.892235",
     "exception": false,
     "start_time": "2022-05-18T05:55:31.834925",
     "status": "completed"
    },
    "tags": []
   },
   "outputs": [
    {
     "name": "stdout",
     "output_type": "stream",
     "text": [
      "Supermarket Type1    5577\n",
      "Grocery Store        1083\n",
      "Supermarket Type3     935\n",
      "Supermarket Type2     928\n",
      "Name: Outlet_Type, dtype: int64\n"
     ]
    }
   ],
   "source": [
    "print(data['Outlet_Type'].value_counts())"
   ]
  },
  {
   "cell_type": "code",
   "execution_count": 9,
   "id": "9efdb547",
   "metadata": {
    "execution": {
     "iopub.execute_input": "2022-05-18T05:55:31.990179Z",
     "iopub.status.busy": "2022-05-18T05:55:31.989643Z",
     "iopub.status.idle": "2022-05-18T05:55:31.992214Z",
     "shell.execute_reply": "2022-05-18T05:55:31.991855Z"
    },
    "papermill": {
     "duration": 0.052896,
     "end_time": "2022-05-18T05:55:31.993786",
     "exception": false,
     "start_time": "2022-05-18T05:55:31.940890",
     "status": "completed"
    },
    "tags": []
   },
   "outputs": [],
   "source": [
    "#data['Item_Identifier'].unique()\n",
    "#data= data.drop('Item_Identifier', axis =1)"
   ]
  },
  {
   "cell_type": "markdown",
   "id": "77985152",
   "metadata": {
    "papermill": {
     "duration": 0.047867,
     "end_time": "2022-05-18T05:55:32.090034",
     "exception": false,
     "start_time": "2022-05-18T05:55:32.042167",
     "status": "completed"
    },
    "tags": []
   },
   "source": [
    "EDA"
   ]
  },
  {
   "cell_type": "code",
   "execution_count": 10,
   "id": "5d6506a7",
   "metadata": {
    "execution": {
     "iopub.execute_input": "2022-05-18T05:55:32.186811Z",
     "iopub.status.busy": "2022-05-18T05:55:32.186361Z",
     "iopub.status.idle": "2022-05-18T05:55:32.450120Z",
     "shell.execute_reply": "2022-05-18T05:55:32.449602Z"
    },
    "papermill": {
     "duration": 0.313881,
     "end_time": "2022-05-18T05:55:32.451848",
     "exception": false,
     "start_time": "2022-05-18T05:55:32.137967",
     "status": "completed"
    },
    "tags": []
   },
   "outputs": [
    {
     "name": "stderr",
     "output_type": "stream",
     "text": [
      "/opt/conda/lib/python3.7/site-packages/seaborn/distributions.py:2619: FutureWarning: `distplot` is a deprecated function and will be removed in a future version. Please adapt your code to use either `displot` (a figure-level function with similar flexibility) or `histplot` (an axes-level function for histograms).\n",
      "  warnings.warn(msg, FutureWarning)\n"
     ]
    },
    {
     "data": {
      "text/plain": [
       "<AxesSubplot:xlabel='Item_Weight', ylabel='Density'>"
      ]
     },
     "execution_count": 10,
     "metadata": {},
     "output_type": "execute_result"
    },
    {
     "data": {
      "image/png": "[encoded data removed]",
      "text/plain": [
       "<Figure size 432x288 with 1 Axes>"
      ]
     },
     "metadata": {
      "needs_background": "light"
     },
     "output_type": "display_data"
    }
   ],
   "source": [
    "sns.distplot(data['Item_Weight'])"
   ]
  },
  {
   "cell_type": "code",
   "execution_count": 11,
   "id": "81106468",
   "metadata": {
    "execution": {
     "iopub.execute_input": "2022-05-18T05:55:32.553380Z",
     "iopub.status.busy": "2022-05-18T05:55:32.553153Z",
     "iopub.status.idle": "2022-05-18T05:55:32.696455Z",
     "shell.execute_reply": "2022-05-18T05:55:32.695860Z"
    },
    "papermill": {
     "duration": 0.196468,
     "end_time": "2022-05-18T05:55:32.698269",
     "exception": false,
     "start_time": "2022-05-18T05:55:32.501801",
     "status": "completed"
    },
    "tags": []
   },
   "outputs": [
    {
     "name": "stderr",
     "output_type": "stream",
     "text": [
      "/opt/conda/lib/python3.7/site-packages/seaborn/_decorators.py:43: FutureWarning: Pass the following variable as a keyword arg: x. From version 0.12, the only valid positional argument will be `data`, and passing other arguments without an explicit keyword will result in an error or misinterpretation.\n",
      "  FutureWarning\n"
     ]
    },
    {
     "data": {
      "text/plain": [
       "<AxesSubplot:xlabel='Outlet_Size', ylabel='count'>"
      ]
     },
     "execution_count": 11,
     "metadata": {},
     "output_type": "execute_result"
    },
    {
     "data": {
      "image/png": "[encoded data removed]",
      "text/plain": [
       "<Figure size 432x288 with 1 Axes>"
      ]
     },
     "metadata": {
      "needs_background": "light"
     },
     "output_type": "display_data"
    }
   ],
   "source": [
    "sns.countplot(data['Outlet_Size'])"
   ]
  },
  {
   "cell_type": "code",
   "execution_count": 12,
   "id": "ee97c36f",
   "metadata": {
    "execution": {
     "iopub.execute_input": "2022-05-18T05:55:32.805424Z",
     "iopub.status.busy": "2022-05-18T05:55:32.805193Z",
     "iopub.status.idle": "2022-05-18T05:55:33.117372Z",
     "shell.execute_reply": "2022-05-18T05:55:33.116907Z"
    },
    "papermill": {
     "duration": 0.365629,
     "end_time": "2022-05-18T05:55:33.118792",
     "exception": false,
     "start_time": "2022-05-18T05:55:32.753163",
     "status": "completed"
    },
    "tags": []
   },
   "outputs": [
    {
     "name": "stderr",
     "output_type": "stream",
     "text": [
      "/opt/conda/lib/python3.7/site-packages/seaborn/distributions.py:2619: FutureWarning: `distplot` is a deprecated function and will be removed in a future version. Please adapt your code to use either `displot` (a figure-level function with similar flexibility) or `histplot` (an axes-level function for histograms).\n",
      "  warnings.warn(msg, FutureWarning)\n"
     ]
    },
    {
     "data": {
      "text/plain": [
       "<AxesSubplot:xlabel='Item_Outlet_Sales', ylabel='Density'>"
      ]
     },
     "execution_count": 12,
     "metadata": {},
     "output_type": "execute_result"
    },
    {
     "data": {
      "image/png": "[encoded data removed]",
      "text/plain": [
       "<Figure size 432x288 with 1 Axes>"
      ]
     },
     "metadata": {
      "needs_background": "light"
     },
     "output_type": "display_data"
    }
   ],
   "source": [
    "sns.distplot(data['Item_Outlet_Sales'])"
   ]
  },
  {
   "cell_type": "code",
   "execution_count": 13,
   "id": "55fbdf0c",
   "metadata": {
    "execution": {
     "iopub.execute_input": "2022-05-18T05:55:33.192700Z",
     "iopub.status.busy": "2022-05-18T05:55:33.191941Z",
     "iopub.status.idle": "2022-05-18T05:55:33.196279Z",
     "shell.execute_reply": "2022-05-18T05:55:33.195847Z"
    },
    "papermill": {
     "duration": 0.042783,
     "end_time": "2022-05-18T05:55:33.197663",
     "exception": false,
     "start_time": "2022-05-18T05:55:33.154880",
     "status": "completed"
    },
    "tags": []
   },
   "outputs": [],
   "source": [
    "#converting to log\n",
    "data['Item_Outlet_Sales'] = np.log(1+data['Item_Outlet_Sales'])"
   ]
  },
  {
   "cell_type": "code",
   "execution_count": 14,
   "id": "996811d6",
   "metadata": {
    "execution": {
     "iopub.execute_input": "2022-05-18T05:55:33.271261Z",
     "iopub.status.busy": "2022-05-18T05:55:33.270641Z",
     "iopub.status.idle": "2022-05-18T05:55:33.567818Z",
     "shell.execute_reply": "2022-05-18T05:55:33.567159Z"
    },
    "papermill": {
     "duration": 0.335659,
     "end_time": "2022-05-18T05:55:33.569171",
     "exception": false,
     "start_time": "2022-05-18T05:55:33.233512",
     "status": "completed"
    },
    "tags": []
   },
   "outputs": [
    {
     "name": "stderr",
     "output_type": "stream",
     "text": [
      "/opt/conda/lib/python3.7/site-packages/seaborn/distributions.py:2619: FutureWarning: `distplot` is a deprecated function and will be removed in a future version. Please adapt your code to use either `displot` (a figure-level function with similar flexibility) or `histplot` (an axes-level function for histograms).\n",
      "  warnings.warn(msg, FutureWarning)\n"
     ]
    },
    {
     "data": {
      "text/plain": [
       "<AxesSubplot:xlabel='Item_Outlet_Sales', ylabel='Density'>"
      ]
     },
     "execution_count": 14,
     "metadata": {},
     "output_type": "execute_result"
    },
    {
     "data": {
      "image/png": "[encoded data removed]",
      "text/plain": [
       "<Figure size 432x288 with 1 Axes>"
      ]
     },
     "metadata": {
      "needs_background": "light"
     },
     "output_type": "display_data"
    }
   ],
   "source": [
    "sns.distplot(data['Item_Outlet_Sales'])"
   ]
  },
  {
   "cell_type": "code",
   "execution_count": 15,
   "id": "9f69b7d2",
   "metadata": {
    "execution": {
     "iopub.execute_input": "2022-05-18T05:55:33.645922Z",
     "iopub.status.busy": "2022-05-18T05:55:33.645483Z",
     "iopub.status.idle": "2022-05-18T05:55:33.779043Z",
     "shell.execute_reply": "2022-05-18T05:55:33.778481Z"
    },
    "papermill": {
     "duration": 0.174085,
     "end_time": "2022-05-18T05:55:33.780628",
     "exception": false,
     "start_time": "2022-05-18T05:55:33.606543",
     "status": "completed"
    },
    "tags": []
   },
   "outputs": [
    {
     "name": "stderr",
     "output_type": "stream",
     "text": [
      "/opt/conda/lib/python3.7/site-packages/seaborn/_decorators.py:43: FutureWarning: Pass the following variable as a keyword arg: x. From version 0.12, the only valid positional argument will be `data`, and passing other arguments without an explicit keyword will result in an error or misinterpretation.\n",
      "  FutureWarning\n"
     ]
    },
    {
     "data": {
      "text/plain": [
       "<AxesSubplot:xlabel='Outlet_Location_Type', ylabel='count'>"
      ]
     },
     "execution_count": 15,
     "metadata": {},
     "output_type": "execute_result"
    },
    {
     "data": {
      "image/png": "[encoded data removed]",
      "text/plain": [
       "<Figure size 432x288 with 1 Axes>"
      ]
     },
     "metadata": {
      "needs_background": "light"
     },
     "output_type": "display_data"
    }
   ],
   "source": [
    "sns.countplot(data[\"Outlet_Location_Type\"])"
   ]
  },
  {
   "cell_type": "code",
   "execution_count": null,
   "id": "7d4a03be",
   "metadata": {
    "papermill": {
     "duration": 0.057549,
     "end_time": "2022-05-18T05:55:33.882249",
     "exception": false,
     "start_time": "2022-05-18T05:55:33.824700",
     "status": "completed"
    },
    "tags": []
   },
   "outputs": [],
   "source": []
  },
  {
   "cell_type": "code",
   "execution_count": null,
   "id": "81844b5a",
   "metadata": {
    "papermill": {
     "duration": 0.05731,
     "end_time": "2022-05-18T05:55:33.996786",
     "exception": false,
     "start_time": "2022-05-18T05:55:33.939476",
     "status": "completed"
    },
    "tags": []
   },
   "outputs": [],
   "source": []
  },
  {
   "cell_type": "code",
   "execution_count": null,
   "id": "2fdb9fe6",
   "metadata": {
    "papermill": {
     "duration": 0.057339,
     "end_time": "2022-05-18T05:55:34.111463",
     "exception": false,
     "start_time": "2022-05-18T05:55:34.054124",
     "status": "completed"
    },
    "tags": []
   },
   "outputs": [],
   "source": []
  },
  {
   "cell_type": "code",
   "execution_count": 16,
   "id": "f012d228",
   "metadata": {
    "execution": {
     "iopub.execute_input": "2022-05-18T05:55:34.227963Z",
     "iopub.status.busy": "2022-05-18T05:55:34.227722Z",
     "iopub.status.idle": "2022-05-18T05:55:34.242346Z",
     "shell.execute_reply": "2022-05-18T05:55:34.241888Z"
    },
    "papermill": {
     "duration": 0.075261,
     "end_time": "2022-05-18T05:55:34.244110",
     "exception": false,
     "start_time": "2022-05-18T05:55:34.168849",
     "status": "completed"
    },
    "tags": []
   },
   "outputs": [
    {
     "data": {
      "text/html": [
       "<div>\n",
       "<style scoped>\n",
       "    .dataframe tbody tr th:only-of-type {\n",
       "        vertical-align: middle;\n",
       "    }\n",
       "\n",
       "    .dataframe tbody tr th {\n",
       "        vertical-align: top;\n",
       "    }\n",
       "\n",
       "    .dataframe thead th {\n",
       "        text-align: right;\n",
       "    }\n",
       "</style>\n",
       "<table border=\"1\" class=\"dataframe\">\n",
       "  <thead>\n",
       "    <tr style=\"text-align: right;\">\n",
       "      <th></th>\n",
       "      <th>Item_Weight</th>\n",
       "      <th>Item_Visibility</th>\n",
       "      <th>Item_MRP</th>\n",
       "      <th>Outlet_Establishment_Year</th>\n",
       "      <th>Item_Outlet_Sales</th>\n",
       "    </tr>\n",
       "  </thead>\n",
       "  <tbody>\n",
       "    <tr>\n",
       "      <th>0</th>\n",
       "      <td>9.30</td>\n",
       "      <td>0.016047</td>\n",
       "      <td>249.8092</td>\n",
       "      <td>1999</td>\n",
       "      <td>8.225808</td>\n",
       "    </tr>\n",
       "    <tr>\n",
       "      <th>1</th>\n",
       "      <td>5.92</td>\n",
       "      <td>0.019278</td>\n",
       "      <td>48.2692</td>\n",
       "      <td>2009</td>\n",
       "      <td>6.096776</td>\n",
       "    </tr>\n",
       "    <tr>\n",
       "      <th>2</th>\n",
       "      <td>17.50</td>\n",
       "      <td>0.016760</td>\n",
       "      <td>141.6180</td>\n",
       "      <td>1999</td>\n",
       "      <td>7.648868</td>\n",
       "    </tr>\n",
       "    <tr>\n",
       "      <th>3</th>\n",
       "      <td>19.20</td>\n",
       "      <td>0.000000</td>\n",
       "      <td>182.0950</td>\n",
       "      <td>1998</td>\n",
       "      <td>6.597664</td>\n",
       "    </tr>\n",
       "    <tr>\n",
       "      <th>4</th>\n",
       "      <td>8.93</td>\n",
       "      <td>0.000000</td>\n",
       "      <td>53.8614</td>\n",
       "      <td>1987</td>\n",
       "      <td>6.903451</td>\n",
       "    </tr>\n",
       "  </tbody>\n",
       "</table>\n",
       "</div>"
      ],
      "text/plain": [
       "   Item_Weight  Item_Visibility  Item_MRP  Outlet_Establishment_Year  \\\n",
       "0         9.30         0.016047  249.8092                       1999   \n",
       "1         5.92         0.019278   48.2692                       2009   \n",
       "2        17.50         0.016760  141.6180                       1999   \n",
       "3        19.20         0.000000  182.0950                       1998   \n",
       "4         8.93         0.000000   53.8614                       1987   \n",
       "\n",
       "   Item_Outlet_Sales  \n",
       "0           8.225808  \n",
       "1           6.096776  \n",
       "2           7.648868  \n",
       "3           6.597664  \n",
       "4           6.903451  "
      ]
     },
     "execution_count": 16,
     "metadata": {},
     "output_type": "execute_result"
    }
   ],
   "source": [
    "#dealing with categorical data\n",
    "cat_data = data.select_dtypes('object')\n",
    "cat_data.head()\n",
    "num_data = data.drop(cat_data,axis =1)\n",
    "num_data.head()"
   ]
  },
  {
   "cell_type": "code",
   "execution_count": 17,
   "id": "655d353a",
   "metadata": {
    "execution": {
     "iopub.execute_input": "2022-05-18T05:55:34.362225Z",
     "iopub.status.busy": "2022-05-18T05:55:34.361855Z",
     "iopub.status.idle": "2022-05-18T05:55:34.524276Z",
     "shell.execute_reply": "2022-05-18T05:55:34.523583Z"
    },
    "papermill": {
     "duration": 0.223809,
     "end_time": "2022-05-18T05:55:34.526189",
     "exception": false,
     "start_time": "2022-05-18T05:55:34.302380",
     "status": "completed"
    },
    "tags": []
   },
   "outputs": [
    {
     "data": {
      "text/html": [
       "<div>\n",
       "<style scoped>\n",
       "    .dataframe tbody tr th:only-of-type {\n",
       "        vertical-align: middle;\n",
       "    }\n",
       "\n",
       "    .dataframe tbody tr th {\n",
       "        vertical-align: top;\n",
       "    }\n",
       "\n",
       "    .dataframe thead th {\n",
       "        text-align: right;\n",
       "    }\n",
       "</style>\n",
       "<table border=\"1\" class=\"dataframe\">\n",
       "  <thead>\n",
       "    <tr style=\"text-align: right;\">\n",
       "      <th></th>\n",
       "      <th>Item_Identifier</th>\n",
       "      <th>Item_Fat_Content</th>\n",
       "      <th>Item_Type</th>\n",
       "      <th>Outlet_Identifier</th>\n",
       "      <th>Outlet_Size</th>\n",
       "      <th>Outlet_Location_Type</th>\n",
       "      <th>Outlet_Type</th>\n",
       "      <th>Item_Weight</th>\n",
       "      <th>Item_Visibility</th>\n",
       "      <th>Item_MRP</th>\n",
       "      <th>Outlet_Establishment_Year</th>\n",
       "      <th>Item_Outlet_Sales</th>\n",
       "    </tr>\n",
       "  </thead>\n",
       "  <tbody>\n",
       "    <tr>\n",
       "      <th>0</th>\n",
       "      <td>156</td>\n",
       "      <td>1</td>\n",
       "      <td>4</td>\n",
       "      <td>9</td>\n",
       "      <td>1</td>\n",
       "      <td>0</td>\n",
       "      <td>1</td>\n",
       "      <td>9.30</td>\n",
       "      <td>0.016047</td>\n",
       "      <td>249.8092</td>\n",
       "      <td>1999</td>\n",
       "      <td>8.225808</td>\n",
       "    </tr>\n",
       "    <tr>\n",
       "      <th>1</th>\n",
       "      <td>8</td>\n",
       "      <td>2</td>\n",
       "      <td>14</td>\n",
       "      <td>3</td>\n",
       "      <td>1</td>\n",
       "      <td>2</td>\n",
       "      <td>2</td>\n",
       "      <td>5.92</td>\n",
       "      <td>0.019278</td>\n",
       "      <td>48.2692</td>\n",
       "      <td>2009</td>\n",
       "      <td>6.096776</td>\n",
       "    </tr>\n",
       "    <tr>\n",
       "      <th>2</th>\n",
       "      <td>662</td>\n",
       "      <td>1</td>\n",
       "      <td>10</td>\n",
       "      <td>9</td>\n",
       "      <td>1</td>\n",
       "      <td>0</td>\n",
       "      <td>1</td>\n",
       "      <td>17.50</td>\n",
       "      <td>0.016760</td>\n",
       "      <td>141.6180</td>\n",
       "      <td>1999</td>\n",
       "      <td>7.648868</td>\n",
       "    </tr>\n",
       "    <tr>\n",
       "      <th>3</th>\n",
       "      <td>1121</td>\n",
       "      <td>2</td>\n",
       "      <td>6</td>\n",
       "      <td>0</td>\n",
       "      <td>3</td>\n",
       "      <td>2</td>\n",
       "      <td>0</td>\n",
       "      <td>19.20</td>\n",
       "      <td>0.000000</td>\n",
       "      <td>182.0950</td>\n",
       "      <td>1998</td>\n",
       "      <td>6.597664</td>\n",
       "    </tr>\n",
       "    <tr>\n",
       "      <th>4</th>\n",
       "      <td>1297</td>\n",
       "      <td>1</td>\n",
       "      <td>9</td>\n",
       "      <td>1</td>\n",
       "      <td>0</td>\n",
       "      <td>2</td>\n",
       "      <td>1</td>\n",
       "      <td>8.93</td>\n",
       "      <td>0.000000</td>\n",
       "      <td>53.8614</td>\n",
       "      <td>1987</td>\n",
       "      <td>6.903451</td>\n",
       "    </tr>\n",
       "  </tbody>\n",
       "</table>\n",
       "</div>"
      ],
      "text/plain": [
       "   Item_Identifier  Item_Fat_Content  Item_Type  Outlet_Identifier  \\\n",
       "0              156                 1          4                  9   \n",
       "1                8                 2         14                  3   \n",
       "2              662                 1         10                  9   \n",
       "3             1121                 2          6                  0   \n",
       "4             1297                 1          9                  1   \n",
       "\n",
       "   Outlet_Size  Outlet_Location_Type  Outlet_Type  Item_Weight  \\\n",
       "0            1                     0            1         9.30   \n",
       "1            1                     2            2         5.92   \n",
       "2            1                     0            1        17.50   \n",
       "3            3                     2            0        19.20   \n",
       "4            0                     2            1         8.93   \n",
       "\n",
       "   Item_Visibility  Item_MRP  Outlet_Establishment_Year  Item_Outlet_Sales  \n",
       "0         0.016047  249.8092                       1999           8.225808  \n",
       "1         0.019278   48.2692                       2009           6.096776  \n",
       "2         0.016760  141.6180                       1999           7.648868  \n",
       "3         0.000000  182.0950                       1998           6.597664  \n",
       "4         0.000000   53.8614                       1987           6.903451  "
      ]
     },
     "execution_count": 17,
     "metadata": {},
     "output_type": "execute_result"
    }
   ],
   "source": [
    "from sklearn.preprocessing import LabelEncoder\n",
    "le = LabelEncoder()\n",
    "\n",
    "cat_data = cat_data.apply(le.fit_transform)\n",
    "\n",
    "cat_data.head()\n",
    "\n",
    "new_data = cat_data.join(num_data)\n",
    "new_data.head()"
   ]
  },
  {
   "cell_type": "code",
   "execution_count": 18,
   "id": "f1c8f830",
   "metadata": {
    "execution": {
     "iopub.execute_input": "2022-05-18T05:55:34.646524Z",
     "iopub.status.busy": "2022-05-18T05:55:34.646262Z",
     "iopub.status.idle": "2022-05-18T05:55:34.661267Z",
     "shell.execute_reply": "2022-05-18T05:55:34.660580Z"
    },
    "papermill": {
     "duration": 0.076929,
     "end_time": "2022-05-18T05:55:34.663134",
     "exception": false,
     "start_time": "2022-05-18T05:55:34.586205",
     "status": "completed"
    },
    "tags": []
   },
   "outputs": [
    {
     "data": {
      "text/html": [
       "<div>\n",
       "<style scoped>\n",
       "    .dataframe tbody tr th:only-of-type {\n",
       "        vertical-align: middle;\n",
       "    }\n",
       "\n",
       "    .dataframe tbody tr th {\n",
       "        vertical-align: top;\n",
       "    }\n",
       "\n",
       "    .dataframe thead th {\n",
       "        text-align: right;\n",
       "    }\n",
       "</style>\n",
       "<table border=\"1\" class=\"dataframe\">\n",
       "  <thead>\n",
       "    <tr style=\"text-align: right;\">\n",
       "      <th></th>\n",
       "      <th>Item_Identifier</th>\n",
       "      <th>Item_Fat_Content</th>\n",
       "      <th>Item_Type</th>\n",
       "      <th>Outlet_Identifier</th>\n",
       "      <th>Outlet_Size</th>\n",
       "      <th>Outlet_Location_Type</th>\n",
       "      <th>Outlet_Type</th>\n",
       "      <th>Item_Weight</th>\n",
       "      <th>Item_Visibility</th>\n",
       "      <th>Item_MRP</th>\n",
       "      <th>Outlet_Establishment_Year</th>\n",
       "    </tr>\n",
       "  </thead>\n",
       "  <tbody>\n",
       "    <tr>\n",
       "      <th>0</th>\n",
       "      <td>156</td>\n",
       "      <td>1</td>\n",
       "      <td>4</td>\n",
       "      <td>9</td>\n",
       "      <td>1</td>\n",
       "      <td>0</td>\n",
       "      <td>1</td>\n",
       "      <td>9.30</td>\n",
       "      <td>0.016047</td>\n",
       "      <td>249.8092</td>\n",
       "      <td>1999</td>\n",
       "    </tr>\n",
       "    <tr>\n",
       "      <th>1</th>\n",
       "      <td>8</td>\n",
       "      <td>2</td>\n",
       "      <td>14</td>\n",
       "      <td>3</td>\n",
       "      <td>1</td>\n",
       "      <td>2</td>\n",
       "      <td>2</td>\n",
       "      <td>5.92</td>\n",
       "      <td>0.019278</td>\n",
       "      <td>48.2692</td>\n",
       "      <td>2009</td>\n",
       "    </tr>\n",
       "    <tr>\n",
       "      <th>2</th>\n",
       "      <td>662</td>\n",
       "      <td>1</td>\n",
       "      <td>10</td>\n",
       "      <td>9</td>\n",
       "      <td>1</td>\n",
       "      <td>0</td>\n",
       "      <td>1</td>\n",
       "      <td>17.50</td>\n",
       "      <td>0.016760</td>\n",
       "      <td>141.6180</td>\n",
       "      <td>1999</td>\n",
       "    </tr>\n",
       "    <tr>\n",
       "      <th>3</th>\n",
       "      <td>1121</td>\n",
       "      <td>2</td>\n",
       "      <td>6</td>\n",
       "      <td>0</td>\n",
       "      <td>3</td>\n",
       "      <td>2</td>\n",
       "      <td>0</td>\n",
       "      <td>19.20</td>\n",
       "      <td>0.000000</td>\n",
       "      <td>182.0950</td>\n",
       "      <td>1998</td>\n",
       "    </tr>\n",
       "    <tr>\n",
       "      <th>4</th>\n",
       "      <td>1297</td>\n",
       "      <td>1</td>\n",
       "      <td>9</td>\n",
       "      <td>1</td>\n",
       "      <td>0</td>\n",
       "      <td>2</td>\n",
       "      <td>1</td>\n",
       "      <td>8.93</td>\n",
       "      <td>0.000000</td>\n",
       "      <td>53.8614</td>\n",
       "      <td>1987</td>\n",
       "    </tr>\n",
       "  </tbody>\n",
       "</table>\n",
       "</div>"
      ],
      "text/plain": [
       "   Item_Identifier  Item_Fat_Content  Item_Type  Outlet_Identifier  \\\n",
       "0              156                 1          4                  9   \n",
       "1                8                 2         14                  3   \n",
       "2              662                 1         10                  9   \n",
       "3             1121                 2          6                  0   \n",
       "4             1297                 1          9                  1   \n",
       "\n",
       "   Outlet_Size  Outlet_Location_Type  Outlet_Type  Item_Weight  \\\n",
       "0            1                     0            1         9.30   \n",
       "1            1                     2            2         5.92   \n",
       "2            1                     0            1        17.50   \n",
       "3            3                     2            0        19.20   \n",
       "4            0                     2            1         8.93   \n",
       "\n",
       "   Item_Visibility  Item_MRP  Outlet_Establishment_Year  \n",
       "0         0.016047  249.8092                       1999  \n",
       "1         0.019278   48.2692                       2009  \n",
       "2         0.016760  141.6180                       1999  \n",
       "3         0.000000  182.0950                       1998  \n",
       "4         0.000000   53.8614                       1987  "
      ]
     },
     "execution_count": 18,
     "metadata": {},
     "output_type": "execute_result"
    }
   ],
   "source": [
    "x= new_data.iloc[:,:-1]\n",
    "y= new_data.iloc[:,-1]\n",
    "x.head()"
   ]
  },
  {
   "cell_type": "code",
   "execution_count": 19,
   "id": "1ba06f53",
   "metadata": {
    "execution": {
     "iopub.execute_input": "2022-05-18T05:55:34.784706Z",
     "iopub.status.busy": "2022-05-18T05:55:34.784267Z",
     "iopub.status.idle": "2022-05-18T05:55:34.788867Z",
     "shell.execute_reply": "2022-05-18T05:55:34.788383Z"
    },
    "papermill": {
     "duration": 0.067419,
     "end_time": "2022-05-18T05:55:34.790425",
     "exception": false,
     "start_time": "2022-05-18T05:55:34.723006",
     "status": "completed"
    },
    "tags": []
   },
   "outputs": [],
   "source": [
    "x= x.drop(columns = ['Item_Identifier','Outlet_Establishment_Year','Outlet_Identifier'])"
   ]
  },
  {
   "cell_type": "code",
   "execution_count": 20,
   "id": "b90bb356",
   "metadata": {
    "execution": {
     "iopub.execute_input": "2022-05-18T05:55:34.911477Z",
     "iopub.status.busy": "2022-05-18T05:55:34.910895Z",
     "iopub.status.idle": "2022-05-18T05:55:34.915351Z",
     "shell.execute_reply": "2022-05-18T05:55:34.914933Z"
    },
    "papermill": {
     "duration": 0.066805,
     "end_time": "2022-05-18T05:55:34.916950",
     "exception": false,
     "start_time": "2022-05-18T05:55:34.850145",
     "status": "completed"
    },
    "tags": []
   },
   "outputs": [],
   "source": [
    "x[\"Item_Visibility\"] = x[\"Item_Visibility\"].replace([0] , [x[\"Item_Visibility\"].mean()])"
   ]
  },
  {
   "cell_type": "code",
   "execution_count": 21,
   "id": "8ce9ae7b",
   "metadata": {
    "execution": {
     "iopub.execute_input": "2022-05-18T05:55:35.038869Z",
     "iopub.status.busy": "2022-05-18T05:55:35.038467Z",
     "iopub.status.idle": "2022-05-18T05:55:35.049098Z",
     "shell.execute_reply": "2022-05-18T05:55:35.048680Z"
    },
    "papermill": {
     "duration": 0.073632,
     "end_time": "2022-05-18T05:55:35.050703",
     "exception": false,
     "start_time": "2022-05-18T05:55:34.977071",
     "status": "completed"
    },
    "tags": []
   },
   "outputs": [
    {
     "data": {
      "text/html": [
       "<div>\n",
       "<style scoped>\n",
       "    .dataframe tbody tr th:only-of-type {\n",
       "        vertical-align: middle;\n",
       "    }\n",
       "\n",
       "    .dataframe tbody tr th {\n",
       "        vertical-align: top;\n",
       "    }\n",
       "\n",
       "    .dataframe thead th {\n",
       "        text-align: right;\n",
       "    }\n",
       "</style>\n",
       "<table border=\"1\" class=\"dataframe\">\n",
       "  <thead>\n",
       "    <tr style=\"text-align: right;\">\n",
       "      <th></th>\n",
       "      <th>Item_Fat_Content</th>\n",
       "      <th>Item_Type</th>\n",
       "      <th>Outlet_Size</th>\n",
       "      <th>Outlet_Location_Type</th>\n",
       "      <th>Outlet_Type</th>\n",
       "      <th>Item_Weight</th>\n",
       "      <th>Item_Visibility</th>\n",
       "      <th>Item_MRP</th>\n",
       "    </tr>\n",
       "  </thead>\n",
       "  <tbody>\n",
       "    <tr>\n",
       "      <th>0</th>\n",
       "      <td>1</td>\n",
       "      <td>4</td>\n",
       "      <td>1</td>\n",
       "      <td>0</td>\n",
       "      <td>1</td>\n",
       "      <td>9.30</td>\n",
       "      <td>0.016047</td>\n",
       "      <td>249.8092</td>\n",
       "    </tr>\n",
       "    <tr>\n",
       "      <th>1</th>\n",
       "      <td>2</td>\n",
       "      <td>14</td>\n",
       "      <td>1</td>\n",
       "      <td>2</td>\n",
       "      <td>2</td>\n",
       "      <td>5.92</td>\n",
       "      <td>0.019278</td>\n",
       "      <td>48.2692</td>\n",
       "    </tr>\n",
       "    <tr>\n",
       "      <th>2</th>\n",
       "      <td>1</td>\n",
       "      <td>10</td>\n",
       "      <td>1</td>\n",
       "      <td>0</td>\n",
       "      <td>1</td>\n",
       "      <td>17.50</td>\n",
       "      <td>0.016760</td>\n",
       "      <td>141.6180</td>\n",
       "    </tr>\n",
       "    <tr>\n",
       "      <th>3</th>\n",
       "      <td>2</td>\n",
       "      <td>6</td>\n",
       "      <td>3</td>\n",
       "      <td>2</td>\n",
       "      <td>0</td>\n",
       "      <td>19.20</td>\n",
       "      <td>0.066132</td>\n",
       "      <td>182.0950</td>\n",
       "    </tr>\n",
       "    <tr>\n",
       "      <th>4</th>\n",
       "      <td>1</td>\n",
       "      <td>9</td>\n",
       "      <td>0</td>\n",
       "      <td>2</td>\n",
       "      <td>1</td>\n",
       "      <td>8.93</td>\n",
       "      <td>0.066132</td>\n",
       "      <td>53.8614</td>\n",
       "    </tr>\n",
       "  </tbody>\n",
       "</table>\n",
       "</div>"
      ],
      "text/plain": [
       "   Item_Fat_Content  Item_Type  Outlet_Size  Outlet_Location_Type  \\\n",
       "0                 1          4            1                     0   \n",
       "1                 2         14            1                     2   \n",
       "2                 1         10            1                     0   \n",
       "3                 2          6            3                     2   \n",
       "4                 1          9            0                     2   \n",
       "\n",
       "   Outlet_Type  Item_Weight  Item_Visibility  Item_MRP  \n",
       "0            1         9.30         0.016047  249.8092  \n",
       "1            2         5.92         0.019278   48.2692  \n",
       "2            1        17.50         0.016760  141.6180  \n",
       "3            0        19.20         0.066132  182.0950  \n",
       "4            1         8.93         0.066132   53.8614  "
      ]
     },
     "execution_count": 21,
     "metadata": {},
     "output_type": "execute_result"
    }
   ],
   "source": [
    "x.head()"
   ]
  },
  {
   "cell_type": "code",
   "execution_count": 22,
   "id": "fb3224ef",
   "metadata": {
    "execution": {
     "iopub.execute_input": "2022-05-18T05:55:35.173148Z",
     "iopub.status.busy": "2022-05-18T05:55:35.172744Z",
     "iopub.status.idle": "2022-05-18T05:55:35.223873Z",
     "shell.execute_reply": "2022-05-18T05:55:35.223316Z"
    },
    "papermill": {
     "duration": 0.114619,
     "end_time": "2022-05-18T05:55:35.225814",
     "exception": false,
     "start_time": "2022-05-18T05:55:35.111195",
     "status": "completed"
    },
    "tags": []
   },
   "outputs": [],
   "source": [
    "from sklearn.model_selection import train_test_split\n",
    "x_train,x_test, y_train, y_test = train_test_split(x,y, test_size = 0.3,random_state =0)"
   ]
  },
  {
   "cell_type": "code",
   "execution_count": 23,
   "id": "d14e2d2a",
   "metadata": {
    "execution": {
     "iopub.execute_input": "2022-05-18T05:55:35.347879Z",
     "iopub.status.busy": "2022-05-18T05:55:35.347479Z",
     "iopub.status.idle": "2022-05-18T05:55:35.351802Z",
     "shell.execute_reply": "2022-05-18T05:55:35.351362Z"
    },
    "papermill": {
     "duration": 0.067436,
     "end_time": "2022-05-18T05:55:35.353313",
     "exception": false,
     "start_time": "2022-05-18T05:55:35.285877",
     "status": "completed"
    },
    "tags": []
   },
   "outputs": [
    {
     "data": {
      "text/plain": [
       "(5966,)"
      ]
     },
     "execution_count": 23,
     "metadata": {},
     "output_type": "execute_result"
    }
   ],
   "source": [
    "y_train.shape"
   ]
  },
  {
   "cell_type": "code",
   "execution_count": 24,
   "id": "0e8b954a",
   "metadata": {
    "execution": {
     "iopub.execute_input": "2022-05-18T05:55:35.477280Z",
     "iopub.status.busy": "2022-05-18T05:55:35.476891Z",
     "iopub.status.idle": "2022-05-18T05:55:35.481890Z",
     "shell.execute_reply": "2022-05-18T05:55:35.481469Z"
    },
    "papermill": {
     "duration": 0.069314,
     "end_time": "2022-05-18T05:55:35.483449",
     "exception": false,
     "start_time": "2022-05-18T05:55:35.414135",
     "status": "completed"
    },
    "tags": []
   },
   "outputs": [],
   "source": [
    "# running models \n",
    "from sklearn.model_selection import cross_val_score\n",
    "from sklearn.metrics import mean_squared_error\n",
    "\n",
    "def train(model,x,y):\n",
    "    model.fit(x,y)\n",
    "    predict = model.predict(x)\n",
    "\n",
    "    cross_val = cross_val_score(model,x,y, scoring ='neg_mean_squared_error', cv=5)\n",
    "    cross_val = np.abs(np.mean(cross_val))\n",
    "    \n",
    "    print(\"cv score = \",cross_val)\n",
    "    "
   ]
  },
  {
   "cell_type": "code",
   "execution_count": 25,
   "id": "76f05fc7",
   "metadata": {
    "execution": {
     "iopub.execute_input": "2022-05-18T05:55:35.605200Z",
     "iopub.status.busy": "2022-05-18T05:55:35.604792Z",
     "iopub.status.idle": "2022-05-18T05:55:36.599982Z",
     "shell.execute_reply": "2022-05-18T05:55:36.599225Z"
    },
    "papermill": {
     "duration": 1.058446,
     "end_time": "2022-05-18T05:55:36.601818",
     "exception": false,
     "start_time": "2022-05-18T05:55:35.543372",
     "status": "completed"
    },
    "tags": []
   },
   "outputs": [
    {
     "name": "stderr",
     "output_type": "stream",
     "text": [
      "/opt/conda/lib/python3.7/site-packages/sklearn/linear_model/_base.py:145: FutureWarning: 'normalize' was deprecated in version 1.0 and will be removed in 1.2.\n",
      "If you wish to scale the data, use Pipeline with a StandardScaler in a preprocessing stage. To reproduce the previous behavior:\n",
      "\n",
      "from sklearn.pipeline import make_pipeline\n",
      "\n",
      "model = make_pipeline(StandardScaler(with_mean=False), LinearRegression())\n",
      "\n",
      "If you wish to pass a sample_weight parameter, you need to pass it as a fit parameter to each step of the pipeline as follows:\n",
      "\n",
      "kwargs = {s[0] + '__sample_weight': sample_weight for s in model.steps}\n",
      "model.fit(X, y, **kwargs)\n",
      "\n",
      "\n",
      "  FutureWarning,\n",
      "/opt/conda/lib/python3.7/site-packages/seaborn/_decorators.py:43: FutureWarning: Pass the following variables as keyword args: x, y. From version 0.12, the only valid positional argument will be `data`, and passing other arguments without an explicit keyword will result in an error or misinterpretation.\n",
      "  FutureWarning\n"
     ]
    },
    {
     "name": "stdout",
     "output_type": "stream",
     "text": [
      "model score 0.5263780831628482\n"
     ]
    },
    {
     "data": {
      "image/png": "[encoded data removed]",
      "text/plain": [
       "<Figure size 432x288 with 1 Axes>"
      ]
     },
     "metadata": {
      "needs_background": "light"
     },
     "output_type": "display_data"
    },
    {
     "name": "stderr",
     "output_type": "stream",
     "text": [
      "/opt/conda/lib/python3.7/site-packages/sklearn/linear_model/_base.py:145: FutureWarning: 'normalize' was deprecated in version 1.0 and will be removed in 1.2.\n",
      "If you wish to scale the data, use Pipeline with a StandardScaler in a preprocessing stage. To reproduce the previous behavior:\n",
      "\n",
      "from sklearn.pipeline import make_pipeline\n",
      "\n",
      "model = make_pipeline(StandardScaler(with_mean=False), LinearRegression())\n",
      "\n",
      "If you wish to pass a sample_weight parameter, you need to pass it as a fit parameter to each step of the pipeline as follows:\n",
      "\n",
      "kwargs = {s[0] + '__sample_weight': sample_weight for s in model.steps}\n",
      "model.fit(X, y, **kwargs)\n",
      "\n",
      "\n",
      "  FutureWarning,\n",
      "/opt/conda/lib/python3.7/site-packages/sklearn/linear_model/_base.py:145: FutureWarning: 'normalize' was deprecated in version 1.0 and will be removed in 1.2.\n",
      "If you wish to scale the data, use Pipeline with a StandardScaler in a preprocessing stage. To reproduce the previous behavior:\n",
      "\n",
      "from sklearn.pipeline import make_pipeline\n",
      "\n",
      "model = make_pipeline(StandardScaler(with_mean=False), LinearRegression())\n",
      "\n",
      "If you wish to pass a sample_weight parameter, you need to pass it as a fit parameter to each step of the pipeline as follows:\n",
      "\n",
      "kwargs = {s[0] + '__sample_weight': sample_weight for s in model.steps}\n",
      "model.fit(X, y, **kwargs)\n",
      "\n",
      "\n",
      "  FutureWarning,\n",
      "/opt/conda/lib/python3.7/site-packages/sklearn/linear_model/_base.py:145: FutureWarning: 'normalize' was deprecated in version 1.0 and will be removed in 1.2.\n",
      "If you wish to scale the data, use Pipeline with a StandardScaler in a preprocessing stage. To reproduce the previous behavior:\n",
      "\n",
      "from sklearn.pipeline import make_pipeline\n",
      "\n",
      "model = make_pipeline(StandardScaler(with_mean=False), LinearRegression())\n",
      "\n",
      "If you wish to pass a sample_weight parameter, you need to pass it as a fit parameter to each step of the pipeline as follows:\n",
      "\n",
      "kwargs = {s[0] + '__sample_weight': sample_weight for s in model.steps}\n",
      "model.fit(X, y, **kwargs)\n",
      "\n",
      "\n",
      "  FutureWarning,\n",
      "/opt/conda/lib/python3.7/site-packages/sklearn/linear_model/_base.py:145: FutureWarning: 'normalize' was deprecated in version 1.0 and will be removed in 1.2.\n",
      "If you wish to scale the data, use Pipeline with a StandardScaler in a preprocessing stage. To reproduce the previous behavior:\n",
      "\n",
      "from sklearn.pipeline import make_pipeline\n",
      "\n",
      "model = make_pipeline(StandardScaler(with_mean=False), LinearRegression())\n",
      "\n",
      "If you wish to pass a sample_weight parameter, you need to pass it as a fit parameter to each step of the pipeline as follows:\n",
      "\n",
      "kwargs = {s[0] + '__sample_weight': sample_weight for s in model.steps}\n",
      "model.fit(X, y, **kwargs)\n",
      "\n",
      "\n",
      "  FutureWarning,\n",
      "/opt/conda/lib/python3.7/site-packages/sklearn/linear_model/_base.py:145: FutureWarning: 'normalize' was deprecated in version 1.0 and will be removed in 1.2.\n",
      "If you wish to scale the data, use Pipeline with a StandardScaler in a preprocessing stage. To reproduce the previous behavior:\n",
      "\n",
      "from sklearn.pipeline import make_pipeline\n",
      "\n",
      "model = make_pipeline(StandardScaler(with_mean=False), LinearRegression())\n",
      "\n",
      "If you wish to pass a sample_weight parameter, you need to pass it as a fit parameter to each step of the pipeline as follows:\n",
      "\n",
      "kwargs = {s[0] + '__sample_weight': sample_weight for s in model.steps}\n",
      "model.fit(X, y, **kwargs)\n",
      "\n",
      "\n",
      "  FutureWarning,\n"
     ]
    },
    {
     "name": "stdout",
     "output_type": "stream",
     "text": [
      "cross val negative mean score -0.472372837389403\n"
     ]
    },
    {
     "data": {
      "image/png": "[encoded data removed]",
      "text/plain": [
       "<Figure size 432x288 with 1 Axes>"
      ]
     },
     "metadata": {
      "needs_background": "light"
     },
     "output_type": "display_data"
    }
   ],
   "source": [
    "from sklearn.linear_model import LinearRegression , Ridge,Lasso\n",
    "\n",
    "\n",
    "model = LinearRegression(normalize =True)\n",
    "model.fit(x_train,y_train)\n",
    "predict = model.predict(x_test)\n",
    "best_score = model.score(x_test,y_test)\n",
    "print(\"model score\",best_score)\n",
    "sns.regplot(y_test,predict)\n",
    "plt.show()\n",
    "\n",
    "cross_val = cross_val_score(model,x_train,y_train,scoring='neg_mean_squared_error',cv=5)\n",
    "\n",
    "print('cross val negative mean score', cross_val.mean())\n",
    "coef= pd.Series(model.coef_ ,x_train.columns).sort_values()\n",
    "coef.plot(kind ='bar', title = 'model_classification')\n",
    "plt.show()"
   ]
  },
  {
   "cell_type": "code",
   "execution_count": 26,
   "id": "a2a9d4e4",
   "metadata": {
    "execution": {
     "iopub.execute_input": "2022-05-18T05:55:36.733282Z",
     "iopub.status.busy": "2022-05-18T05:55:36.732636Z",
     "iopub.status.idle": "2022-05-18T05:55:36.955854Z",
     "shell.execute_reply": "2022-05-18T05:55:36.955115Z"
    },
    "papermill": {
     "duration": 0.291531,
     "end_time": "2022-05-18T05:55:36.957805",
     "exception": false,
     "start_time": "2022-05-18T05:55:36.666274",
     "status": "completed"
    },
    "tags": []
   },
   "outputs": [
    {
     "name": "stdout",
     "output_type": "stream",
     "text": [
      "cv score =  0.6181243490479906\n",
      "model score = 0.38384101124393055\n"
     ]
    },
    {
     "name": "stderr",
     "output_type": "stream",
     "text": [
      "/opt/conda/lib/python3.7/site-packages/sklearn/linear_model/_base.py:145: FutureWarning: 'normalize' was deprecated in version 1.0 and will be removed in 1.2.\n",
      "If you wish to scale the data, use Pipeline with a StandardScaler in a preprocessing stage. To reproduce the previous behavior:\n",
      "\n",
      "from sklearn.pipeline import make_pipeline\n",
      "\n",
      "model = make_pipeline(StandardScaler(with_mean=False), Ridge())\n",
      "\n",
      "If you wish to pass a sample_weight parameter, you need to pass it as a fit parameter to each step of the pipeline as follows:\n",
      "\n",
      "kwargs = {s[0] + '__sample_weight': sample_weight for s in model.steps}\n",
      "model.fit(X, y, **kwargs)\n",
      "\n",
      "Set parameter alpha to: original_alpha * n_samples. \n",
      "  FutureWarning,\n",
      "/opt/conda/lib/python3.7/site-packages/sklearn/linear_model/_base.py:145: FutureWarning: 'normalize' was deprecated in version 1.0 and will be removed in 1.2.\n",
      "If you wish to scale the data, use Pipeline with a StandardScaler in a preprocessing stage. To reproduce the previous behavior:\n",
      "\n",
      "from sklearn.pipeline import make_pipeline\n",
      "\n",
      "model = make_pipeline(StandardScaler(with_mean=False), Ridge())\n",
      "\n",
      "If you wish to pass a sample_weight parameter, you need to pass it as a fit parameter to each step of the pipeline as follows:\n",
      "\n",
      "kwargs = {s[0] + '__sample_weight': sample_weight for s in model.steps}\n",
      "model.fit(X, y, **kwargs)\n",
      "\n",
      "Set parameter alpha to: original_alpha * n_samples. \n",
      "  FutureWarning,\n",
      "/opt/conda/lib/python3.7/site-packages/sklearn/linear_model/_base.py:145: FutureWarning: 'normalize' was deprecated in version 1.0 and will be removed in 1.2.\n",
      "If you wish to scale the data, use Pipeline with a StandardScaler in a preprocessing stage. To reproduce the previous behavior:\n",
      "\n",
      "from sklearn.pipeline import make_pipeline\n",
      "\n",
      "model = make_pipeline(StandardScaler(with_mean=False), Ridge())\n",
      "\n",
      "If you wish to pass a sample_weight parameter, you need to pass it as a fit parameter to each step of the pipeline as follows:\n",
      "\n",
      "kwargs = {s[0] + '__sample_weight': sample_weight for s in model.steps}\n",
      "model.fit(X, y, **kwargs)\n",
      "\n",
      "Set parameter alpha to: original_alpha * n_samples. \n",
      "  FutureWarning,\n",
      "/opt/conda/lib/python3.7/site-packages/sklearn/linear_model/_base.py:145: FutureWarning: 'normalize' was deprecated in version 1.0 and will be removed in 1.2.\n",
      "If you wish to scale the data, use Pipeline with a StandardScaler in a preprocessing stage. To reproduce the previous behavior:\n",
      "\n",
      "from sklearn.pipeline import make_pipeline\n",
      "\n",
      "model = make_pipeline(StandardScaler(with_mean=False), Ridge())\n",
      "\n",
      "If you wish to pass a sample_weight parameter, you need to pass it as a fit parameter to each step of the pipeline as follows:\n",
      "\n",
      "kwargs = {s[0] + '__sample_weight': sample_weight for s in model.steps}\n",
      "model.fit(X, y, **kwargs)\n",
      "\n",
      "Set parameter alpha to: original_alpha * n_samples. \n",
      "  FutureWarning,\n",
      "/opt/conda/lib/python3.7/site-packages/sklearn/linear_model/_base.py:145: FutureWarning: 'normalize' was deprecated in version 1.0 and will be removed in 1.2.\n",
      "If you wish to scale the data, use Pipeline with a StandardScaler in a preprocessing stage. To reproduce the previous behavior:\n",
      "\n",
      "from sklearn.pipeline import make_pipeline\n",
      "\n",
      "model = make_pipeline(StandardScaler(with_mean=False), Ridge())\n",
      "\n",
      "If you wish to pass a sample_weight parameter, you need to pass it as a fit parameter to each step of the pipeline as follows:\n",
      "\n",
      "kwargs = {s[0] + '__sample_weight': sample_weight for s in model.steps}\n",
      "model.fit(X, y, **kwargs)\n",
      "\n",
      "Set parameter alpha to: original_alpha * n_samples. \n",
      "  FutureWarning,\n",
      "/opt/conda/lib/python3.7/site-packages/sklearn/linear_model/_base.py:145: FutureWarning: 'normalize' was deprecated in version 1.0 and will be removed in 1.2.\n",
      "If you wish to scale the data, use Pipeline with a StandardScaler in a preprocessing stage. To reproduce the previous behavior:\n",
      "\n",
      "from sklearn.pipeline import make_pipeline\n",
      "\n",
      "model = make_pipeline(StandardScaler(with_mean=False), Ridge())\n",
      "\n",
      "If you wish to pass a sample_weight parameter, you need to pass it as a fit parameter to each step of the pipeline as follows:\n",
      "\n",
      "kwargs = {s[0] + '__sample_weight': sample_weight for s in model.steps}\n",
      "model.fit(X, y, **kwargs)\n",
      "\n",
      "Set parameter alpha to: original_alpha * n_samples. \n",
      "  FutureWarning,\n",
      "/opt/conda/lib/python3.7/site-packages/sklearn/linear_model/_base.py:145: FutureWarning: 'normalize' was deprecated in version 1.0 and will be removed in 1.2.\n",
      "If you wish to scale the data, use Pipeline with a StandardScaler in a preprocessing stage. To reproduce the previous behavior:\n",
      "\n",
      "from sklearn.pipeline import make_pipeline\n",
      "\n",
      "model = make_pipeline(StandardScaler(with_mean=False), Ridge())\n",
      "\n",
      "If you wish to pass a sample_weight parameter, you need to pass it as a fit parameter to each step of the pipeline as follows:\n",
      "\n",
      "kwargs = {s[0] + '__sample_weight': sample_weight for s in model.steps}\n",
      "model.fit(X, y, **kwargs)\n",
      "\n",
      "Set parameter alpha to: original_alpha * n_samples. \n",
      "  FutureWarning,\n"
     ]
    },
    {
     "data": {
      "text/plain": [
       "<AxesSubplot:title={'center':'model_classification'}>"
      ]
     },
     "execution_count": 26,
     "metadata": {},
     "output_type": "execute_result"
    },
    {
     "data": {
      "image/png": "[encoded data removed]",
      "text/plain": [
       "<Figure size 432x288 with 1 Axes>"
      ]
     },
     "metadata": {
      "needs_background": "light"
     },
     "output_type": "display_data"
    }
   ],
   "source": [
    "model = Ridge(normalize = True)\n",
    "train(model,x_train,y_train)\n",
    "\n",
    "model.fit(x_train,y_train)\n",
    "print('model score =',model.score(x_test,y_test))\n",
    "\n",
    "coef= pd.Series(model.coef_ ,x_train.columns).sort_values()\n",
    "coef.plot(kind ='bar', title = 'model_classification')"
   ]
  },
  {
   "cell_type": "code",
   "execution_count": 27,
   "id": "09369eec",
   "metadata": {
    "execution": {
     "iopub.execute_input": "2022-05-18T05:55:37.093921Z",
     "iopub.status.busy": "2022-05-18T05:55:37.093519Z",
     "iopub.status.idle": "2022-05-18T05:55:37.314019Z",
     "shell.execute_reply": "2022-05-18T05:55:37.313389Z"
    },
    "papermill": {
     "duration": 0.291028,
     "end_time": "2022-05-18T05:55:37.315914",
     "exception": false,
     "start_time": "2022-05-18T05:55:37.024886",
     "status": "completed"
    },
    "tags": []
   },
   "outputs": [
    {
     "name": "stdout",
     "output_type": "stream",
     "text": [
      "model score = 0.2538352830427828\n",
      "cv score =  0.753489931597371\n"
     ]
    },
    {
     "data": {
      "text/plain": [
       "<AxesSubplot:title={'center':'model_classification'}>"
      ]
     },
     "execution_count": 27,
     "metadata": {},
     "output_type": "execute_result"
    },
    {
     "data": {
      "image/png": "[encoded data removed]",
      "text/plain": [
       "<Figure size 432x288 with 1 Axes>"
      ]
     },
     "metadata": {
      "needs_background": "light"
     },
     "output_type": "display_data"
    }
   ],
   "source": [
    "model = Lasso()\n",
    "\n",
    "model.fit(x_train,y_train)\n",
    "print('model score =',model.score(x_test,y_test))\n",
    "\n",
    "train(model,x_train,y_train)\n",
    "coef= pd.Series(model.coef_ ,x_train.columns).sort_values()\n",
    "coef.plot(kind ='bar', title = 'model_classification')"
   ]
  },
  {
   "cell_type": "code",
   "execution_count": 28,
   "id": "726405cc",
   "metadata": {
    "execution": {
     "iopub.execute_input": "2022-05-18T05:55:37.456031Z",
     "iopub.status.busy": "2022-05-18T05:55:37.455620Z",
     "iopub.status.idle": "2022-05-18T05:55:37.958066Z",
     "shell.execute_reply": "2022-05-18T05:55:37.957569Z"
    },
    "papermill": {
     "duration": 0.574421,
     "end_time": "2022-05-18T05:55:37.959337",
     "exception": false,
     "start_time": "2022-05-18T05:55:37.384916",
     "status": "completed"
    },
    "tags": []
   },
   "outputs": [
    {
     "name": "stdout",
     "output_type": "stream",
     "text": [
      "model score = 0.44423447978748276\n",
      "cv score =  0.5563784208015792\n"
     ]
    },
    {
     "data": {
      "text/plain": [
       "<AxesSubplot:title={'center':'model_classification'}>"
      ]
     },
     "execution_count": 28,
     "metadata": {},
     "output_type": "execute_result"
    },
    {
     "data": {
      "image/png": "[encoded data removed]",
      "text/plain": [
       "<Figure size 432x288 with 1 Axes>"
      ]
     },
     "metadata": {
      "needs_background": "light"
     },
     "output_type": "display_data"
    }
   ],
   "source": [
    "from sklearn.tree import DecisionTreeRegressor\n",
    "model =DecisionTreeRegressor()\n",
    "\n",
    "model.fit(x_train,y_train)\n",
    "print('model score =',model.score(x_test,y_test))\n",
    "\n",
    "train(model,x_train,y_train)\n",
    "coef= pd.Series(model.feature_importances_,x_train.columns).sort_values()\n",
    "coef.plot(kind ='bar', title = 'model_classification')"
   ]
  },
  {
   "cell_type": "markdown",
   "id": "9bbd1c27",
   "metadata": {
    "papermill": {
     "duration": 0.047039,
     "end_time": "2022-05-18T05:55:38.053877",
     "exception": false,
     "start_time": "2022-05-18T05:55:38.006838",
     "status": "completed"
    },
    "tags": []
   },
   "source": [
    "hyperparameter tuning"
   ]
  },
  {
   "cell_type": "code",
   "execution_count": 29,
   "id": "dbfb5c4f",
   "metadata": {
    "execution": {
     "iopub.execute_input": "2022-05-18T05:55:38.154625Z",
     "iopub.status.busy": "2022-05-18T05:55:38.154218Z",
     "iopub.status.idle": "2022-05-18T05:55:38.160593Z",
     "shell.execute_reply": "2022-05-18T05:55:38.159744Z"
    },
    "papermill": {
     "duration": 0.058471,
     "end_time": "2022-05-18T05:55:38.162232",
     "exception": false,
     "start_time": "2022-05-18T05:55:38.103761",
     "status": "completed"
    },
    "tags": []
   },
   "outputs": [
    {
     "name": "stdout",
     "output_type": "stream",
     "text": [
      "{'max_features': ['auto', 'sqrt'], 'max_depth': [1, 6, 12, 18, 24, 30], 'min_samples_split': [2, 5, 10, 15, 100], 'min_samples_leaf': [1, 2, 5, 10]}\n"
     ]
    }
   ],
   "source": [
    "from sklearn.model_selection import RandomizedSearchCV\n",
    "\n",
    "max_features =['auto','sqrt']\n",
    "max_depth = [int(x) for x in np.linspace(1,30,6)]\n",
    "min_samples_split = [2,5,10,15,100]\n",
    "min_samples_leaf = [1,2,5,10] \n",
    "\n",
    "grid_search = { 'max_features' : max_features , 'max_depth': max_depth ,'min_samples_split' : min_samples_split , 'min_samples_leaf' : min_samples_leaf }\n",
    "print(grid_search)\n"
   ]
  },
  {
   "cell_type": "code",
   "execution_count": 30,
   "id": "fbbfc8f6",
   "metadata": {
    "execution": {
     "iopub.execute_input": "2022-05-18T05:55:38.261972Z",
     "iopub.status.busy": "2022-05-18T05:55:38.260961Z",
     "iopub.status.idle": "2022-05-18T05:56:30.368818Z",
     "shell.execute_reply": "2022-05-18T05:56:30.367932Z"
    },
    "papermill": {
     "duration": 52.159681,
     "end_time": "2022-05-18T05:56:30.370695",
     "exception": false,
     "start_time": "2022-05-18T05:55:38.211014",
     "status": "completed"
    },
    "tags": []
   },
   "outputs": [
    {
     "name": "stdout",
     "output_type": "stream",
     "text": [
      "Fitting 5 folds for each of 10 candidates, totalling 50 fits\n",
      "[CV] END max_depth=24, max_features=auto, min_samples_leaf=1, min_samples_split=2; total time=   2.2s\n",
      "[CV] END max_depth=24, max_features=auto, min_samples_leaf=1, min_samples_split=2; total time=   2.2s\n",
      "[CV] END max_depth=24, max_features=auto, min_samples_leaf=1, min_samples_split=2; total time=   2.2s\n",
      "[CV] END max_depth=24, max_features=auto, min_samples_leaf=1, min_samples_split=2; total time=   2.2s\n",
      "[CV] END max_depth=24, max_features=auto, min_samples_leaf=1, min_samples_split=2; total time=   2.2s\n",
      "[CV] END max_depth=30, max_features=sqrt, min_samples_leaf=5, min_samples_split=10; total time=   0.5s\n",
      "[CV] END max_depth=30, max_features=sqrt, min_samples_leaf=5, min_samples_split=10; total time=   0.6s\n",
      "[CV] END max_depth=30, max_features=sqrt, min_samples_leaf=5, min_samples_split=10; total time=   0.5s\n",
      "[CV] END max_depth=30, max_features=sqrt, min_samples_leaf=5, min_samples_split=10; total time=   0.5s\n",
      "[CV] END max_depth=30, max_features=sqrt, min_samples_leaf=5, min_samples_split=10; total time=   0.5s\n",
      "[CV] END max_depth=6, max_features=sqrt, min_samples_leaf=2, min_samples_split=5; total time=   0.4s\n",
      "[CV] END max_depth=6, max_features=sqrt, min_samples_leaf=2, min_samples_split=5; total time=   0.4s\n",
      "[CV] END max_depth=6, max_features=sqrt, min_samples_leaf=2, min_samples_split=5; total time=   0.3s\n",
      "[CV] END max_depth=6, max_features=sqrt, min_samples_leaf=2, min_samples_split=5; total time=   0.3s\n",
      "[CV] END max_depth=6, max_features=sqrt, min_samples_leaf=2, min_samples_split=5; total time=   0.3s\n",
      "[CV] END max_depth=30, max_features=sqrt, min_samples_leaf=5, min_samples_split=15; total time=   0.5s\n",
      "[CV] END max_depth=30, max_features=sqrt, min_samples_leaf=5, min_samples_split=15; total time=   0.5s\n",
      "[CV] END max_depth=30, max_features=sqrt, min_samples_leaf=5, min_samples_split=15; total time=   0.5s\n",
      "[CV] END max_depth=30, max_features=sqrt, min_samples_leaf=5, min_samples_split=15; total time=   0.5s\n",
      "[CV] END max_depth=30, max_features=sqrt, min_samples_leaf=5, min_samples_split=15; total time=   0.5s\n",
      "[CV] END max_depth=12, max_features=auto, min_samples_leaf=10, min_samples_split=2; total time=   1.2s\n",
      "[CV] END max_depth=12, max_features=auto, min_samples_leaf=10, min_samples_split=2; total time=   1.3s\n",
      "[CV] END max_depth=12, max_features=auto, min_samples_leaf=10, min_samples_split=2; total time=   1.2s\n",
      "[CV] END max_depth=12, max_features=auto, min_samples_leaf=10, min_samples_split=2; total time=   1.3s\n",
      "[CV] END max_depth=12, max_features=auto, min_samples_leaf=10, min_samples_split=2; total time=   1.2s\n",
      "[CV] END max_depth=6, max_features=auto, min_samples_leaf=5, min_samples_split=15; total time=   0.9s\n",
      "[CV] END max_depth=6, max_features=auto, min_samples_leaf=5, min_samples_split=15; total time=   0.9s\n",
      "[CV] END max_depth=6, max_features=auto, min_samples_leaf=5, min_samples_split=15; total time=   0.9s\n",
      "[CV] END max_depth=6, max_features=auto, min_samples_leaf=5, min_samples_split=15; total time=   0.9s\n",
      "[CV] END max_depth=6, max_features=auto, min_samples_leaf=5, min_samples_split=15; total time=   0.9s\n",
      "[CV] END max_depth=18, max_features=auto, min_samples_leaf=1, min_samples_split=2; total time=   2.0s\n",
      "[CV] END max_depth=18, max_features=auto, min_samples_leaf=1, min_samples_split=2; total time=   2.0s\n",
      "[CV] END max_depth=18, max_features=auto, min_samples_leaf=1, min_samples_split=2; total time=   2.0s\n",
      "[CV] END max_depth=18, max_features=auto, min_samples_leaf=1, min_samples_split=2; total time=   2.0s\n",
      "[CV] END max_depth=18, max_features=auto, min_samples_leaf=1, min_samples_split=2; total time=   2.0s\n",
      "[CV] END max_depth=6, max_features=sqrt, min_samples_leaf=5, min_samples_split=15; total time=   0.4s\n",
      "[CV] END max_depth=6, max_features=sqrt, min_samples_leaf=5, min_samples_split=15; total time=   0.4s\n",
      "[CV] END max_depth=6, max_features=sqrt, min_samples_leaf=5, min_samples_split=15; total time=   0.4s\n",
      "[CV] END max_depth=6, max_features=sqrt, min_samples_leaf=5, min_samples_split=15; total time=   0.4s\n",
      "[CV] END max_depth=6, max_features=sqrt, min_samples_leaf=5, min_samples_split=15; total time=   0.3s\n",
      "[CV] END max_depth=12, max_features=sqrt, min_samples_leaf=10, min_samples_split=10; total time=   0.5s\n",
      "[CV] END max_depth=12, max_features=sqrt, min_samples_leaf=10, min_samples_split=10; total time=   0.5s\n",
      "[CV] END max_depth=12, max_features=sqrt, min_samples_leaf=10, min_samples_split=10; total time=   0.5s\n",
      "[CV] END max_depth=12, max_features=sqrt, min_samples_leaf=10, min_samples_split=10; total time=   0.5s\n",
      "[CV] END max_depth=12, max_features=sqrt, min_samples_leaf=10, min_samples_split=10; total time=   0.5s\n",
      "[CV] END max_depth=24, max_features=auto, min_samples_leaf=1, min_samples_split=15; total time=   1.6s\n",
      "[CV] END max_depth=24, max_features=auto, min_samples_leaf=1, min_samples_split=15; total time=   1.6s\n",
      "[CV] END max_depth=24, max_features=auto, min_samples_leaf=1, min_samples_split=15; total time=   1.6s\n",
      "[CV] END max_depth=24, max_features=auto, min_samples_leaf=1, min_samples_split=15; total time=   1.6s\n",
      "[CV] END max_depth=24, max_features=auto, min_samples_leaf=1, min_samples_split=15; total time=   1.6s\n"
     ]
    },
    {
     "data": {
      "text/plain": [
       "RandomizedSearchCV(cv=5, estimator=RandomForestRegressor(),\n",
       "                   param_distributions={'max_depth': [1, 6, 12, 18, 24, 30],\n",
       "                                        'max_features': ['auto', 'sqrt'],\n",
       "                                        'min_samples_leaf': [1, 2, 5, 10],\n",
       "                                        'min_samples_split': [2, 5, 10, 15,\n",
       "                                                              100]},\n",
       "                   random_state=20, scoring='neg_mean_squared_error',\n",
       "                   verbose=2)"
      ]
     },
     "execution_count": 30,
     "metadata": {},
     "output_type": "execute_result"
    }
   ],
   "source": [
    "#random forest regressor \n",
    "from sklearn.ensemble import RandomForestRegressor \n",
    "rf = RandomForestRegressor()\n",
    "\n",
    "rscv = RandomizedSearchCV(estimator = rf , param_distributions = grid_search , scoring = 'neg_mean_squared_error', n_iter = 10, cv = 5,verbose = 2, random_state = 20)\n",
    "rscv.fit(x_train,y_train)"
   ]
  },
  {
   "cell_type": "code",
   "execution_count": 31,
   "id": "3f495b0e",
   "metadata": {
    "execution": {
     "iopub.execute_input": "2022-05-18T05:56:30.564495Z",
     "iopub.status.busy": "2022-05-18T05:56:30.564280Z",
     "iopub.status.idle": "2022-05-18T05:56:30.780329Z",
     "shell.execute_reply": "2022-05-18T05:56:30.779625Z"
    },
    "papermill": {
     "duration": 0.315045,
     "end_time": "2022-05-18T05:56:30.782520",
     "exception": false,
     "start_time": "2022-05-18T05:56:30.467475",
     "status": "completed"
    },
    "tags": []
   },
   "outputs": [
    {
     "name": "stdout",
     "output_type": "stream",
     "text": [
      "{'min_samples_split': 15, 'min_samples_leaf': 5, 'max_features': 'auto', 'max_depth': 6}\n",
      "-0.2693733030188553\n"
     ]
    },
    {
     "name": "stderr",
     "output_type": "stream",
     "text": [
      "/opt/conda/lib/python3.7/site-packages/seaborn/distributions.py:2619: FutureWarning: `distplot` is a deprecated function and will be removed in a future version. Please adapt your code to use either `displot` (a figure-level function with similar flexibility) or `histplot` (an axes-level function for histograms).\n",
      "  warnings.warn(msg, FutureWarning)\n"
     ]
    },
    {
     "data": {
      "text/plain": [
       "<AxesSubplot:xlabel='Item_Outlet_Sales', ylabel='Density'>"
      ]
     },
     "execution_count": 31,
     "metadata": {},
     "output_type": "execute_result"
    },
    {
     "data": {
      "image/png": "[encoded data removed]",
      "text/plain": [
       "<Figure size 432x288 with 1 Axes>"
      ]
     },
     "metadata": {
      "needs_background": "light"
     },
     "output_type": "display_data"
    }
   ],
   "source": [
    "print(rscv.best_params_)\n",
    "print(rscv.best_score_)\n",
    "predict = rscv.predict(x_test)\n",
    "sns.distplot(y_test-predict)"
   ]
  },
  {
   "cell_type": "code",
   "execution_count": null,
   "id": "8d93b6d6",
   "metadata": {
    "papermill": {
     "duration": 0.100947,
     "end_time": "2022-05-18T05:56:30.980462",
     "exception": false,
     "start_time": "2022-05-18T05:56:30.879515",
     "status": "completed"
    },
    "tags": []
   },
   "outputs": [],
   "source": []
  }
 ],
 "metadata": {
  "kernelspec": {
   "display_name": "Python 3",
   "language": "python",
   "name": "python3"
  },
  "language_info": {
   "codemirror_mode": {
    "name": "ipython",
    "version": 3
   },
   "file_extension": ".py",
   "mimetype": "text/x-python",
   "name": "python",
   "nbconvert_exporter": "python",
   "pygments_lexer": "ipython3",
   "version": "3.7.12"
  },
  "papermill": {
   "default_parameters": {},
   "duration": 71.978241,
   "end_time": "2022-05-18T05:56:31.997039",
   "environment_variables": {},
   "exception": null,
   "input_path": "__notebook__.ipynb",
   "output_path": "__notebook__.ipynb",
   "parameters": {},
   "start_time": "2022-05-18T05:55:20.018798",
   "version": "2.3.4"
  }
 },
 "nbformat": 4,
 "nbformat_minor": 5
}
